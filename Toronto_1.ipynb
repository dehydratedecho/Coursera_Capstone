{
    "nbformat_minor": 1, 
    "cells": [
        {
            "execution_count": 2, 
            "cell_type": "code", 
            "metadata": {}, 
            "outputs": [], 
            "source": "import pandas as pd\nfrom bs4 import BeautifulSoup\nimport requests"
        }, 
        {
            "source": "# Parse the Wikipedia page", 
            "cell_type": "markdown", 
            "metadata": {}
        }, 
        {
            "execution_count": 3, 
            "cell_type": "code", 
            "metadata": {}, 
            "outputs": [], 
            "source": "source = requests.get('https://en.wikipedia.org/wiki/List_of_postal_codes_of_Canada:_M').text\nsoup = BeautifulSoup(source,'lxml')\ntable_can_zipinfo = soup.find('table')\ncolvals = table_can_zipinfo.find_all('td')\n\nelem_cnt = len(colvals)\n\npostcode = []\nborough = []\nneighborhood = []\n\nfor i in range(0, elem_cnt, 3):\n    postcode.append(colvals[i].text.strip())\n    borough.append(colvals[i+1].text.strip())\n    neighborhood.append(colvals[i+2].text.strip())"
        }, 
        {
            "source": "## Build the dataframe from the list of values", 
            "cell_type": "markdown", 
            "metadata": {}
        }, 
        {
            "execution_count": 5, 
            "cell_type": "code", 
            "metadata": {}, 
            "outputs": [], 
            "source": "df_can_postcode = pd.DataFrame(data=[postcode, borough, neighborhood]).transpose()\ndf_can_postcode.columns = ['Postcode', 'Borough', 'Neighborhood']"
        }, 
        {
            "source": "## Cleanse the data and transform as per the given requirements", 
            "cell_type": "markdown", 
            "metadata": {}
        }, 
        {
            "execution_count": 6, 
            "cell_type": "code", 
            "metadata": {}, 
            "outputs": [], 
            "source": "df_can_postcode.drop(df_can_postcode[df_can_postcode['Borough'] == 'Not assigned'].index, inplace=True)\ndf_can_postcode.loc[df_can_postcode.Neighborhood == 'Not assigned', \"Neighborhood\"] = df_can_postcode.Borough"
        }, 
        {
            "source": "## Group the data by Postcode & Borough", 
            "cell_type": "markdown", 
            "metadata": {}
        }, 
        {
            "execution_count": 7, 
            "cell_type": "code", 
            "metadata": {}, 
            "outputs": [], 
            "source": "df_grp_can = df_can_postcode.groupby(['Postcode', 'Borough'])['Neighborhood'].apply(', '.join).reset_index()\ndf_grp_can.columns = ['Postcode', 'Borough', 'Neighborhood']"
        }, 
        {
            "source": "## Print the number of rows of your dataframe", 
            "cell_type": "markdown", 
            "metadata": {}
        }, 
        {
            "execution_count": null, 
            "cell_type": "code", 
            "metadata": {}, 
            "outputs": [], 
            "source": "df_latlng = pd.read_csv('http://cocl.us/Geospatial_data')\ndf_latlng.columns = ['Postcode', 'Latitude', 'Longitude']"
        }, 
        {
            "execution_count": null, 
            "cell_type": "code", 
            "metadata": {}, 
            "outputs": [], 
            "source": ""
        }
    ], 
    "metadata": {
        "kernelspec": {
            "display_name": "Python 3.6", 
            "name": "python3", 
            "language": "python"
        }, 
        "language_info": {
            "mimetype": "text/x-python", 
            "nbconvert_exporter": "python", 
            "version": "3.6.8", 
            "name": "python", 
            "file_extension": ".py", 
            "pygments_lexer": "ipython3", 
            "codemirror_mode": {
                "version": 3, 
                "name": "ipython"
            }
        }
    }, 
    "nbformat": 4
}